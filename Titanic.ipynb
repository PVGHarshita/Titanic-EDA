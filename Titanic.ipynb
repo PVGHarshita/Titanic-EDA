{
 "cells": [
  {
   "cell_type": "code",
   "execution_count": 15,
   "id": "53f89c93",
   "metadata": {},
   "outputs": [],
   "source": [
    "import numpy as np\n",
    "import pandas as pd"
   ]
  },
  {
   "cell_type": "code",
   "execution_count": 16,
   "id": "3eff70f4",
   "metadata": {},
   "outputs": [
    {
     "data": {
      "text/html": [
       "<div>\n",
       "<style scoped>\n",
       "    .dataframe tbody tr th:only-of-type {\n",
       "        vertical-align: middle;\n",
       "    }\n",
       "\n",
       "    .dataframe tbody tr th {\n",
       "        vertical-align: top;\n",
       "    }\n",
       "\n",
       "    .dataframe thead th {\n",
       "        text-align: right;\n",
       "    }\n",
       "</style>\n",
       "<table border=\"1\" class=\"dataframe\">\n",
       "  <thead>\n",
       "    <tr style=\"text-align: right;\">\n",
       "      <th></th>\n",
       "      <th>PassengerId</th>\n",
       "      <th>Survived</th>\n",
       "      <th>Pclass</th>\n",
       "      <th>Name</th>\n",
       "      <th>Sex</th>\n",
       "      <th>Age</th>\n",
       "      <th>SibSp</th>\n",
       "      <th>Parch</th>\n",
       "      <th>Ticket</th>\n",
       "      <th>Fare</th>\n",
       "      <th>Cabin</th>\n",
       "      <th>Embarked</th>\n",
       "    </tr>\n",
       "  </thead>\n",
       "  <tbody>\n",
       "    <tr>\n",
       "      <th>0</th>\n",
       "      <td>1</td>\n",
       "      <td>0</td>\n",
       "      <td>3</td>\n",
       "      <td>Braund, Mr. Owen Harris</td>\n",
       "      <td>male</td>\n",
       "      <td>22.0</td>\n",
       "      <td>1</td>\n",
       "      <td>0</td>\n",
       "      <td>A/5 21171</td>\n",
       "      <td>7.2500</td>\n",
       "      <td>NaN</td>\n",
       "      <td>S</td>\n",
       "    </tr>\n",
       "    <tr>\n",
       "      <th>1</th>\n",
       "      <td>2</td>\n",
       "      <td>1</td>\n",
       "      <td>1</td>\n",
       "      <td>Cumings, Mrs. John Bradley (Florence Briggs Th...</td>\n",
       "      <td>female</td>\n",
       "      <td>38.0</td>\n",
       "      <td>1</td>\n",
       "      <td>0</td>\n",
       "      <td>PC 17599</td>\n",
       "      <td>71.2833</td>\n",
       "      <td>C85</td>\n",
       "      <td>C</td>\n",
       "    </tr>\n",
       "    <tr>\n",
       "      <th>2</th>\n",
       "      <td>3</td>\n",
       "      <td>1</td>\n",
       "      <td>3</td>\n",
       "      <td>Heikkinen, Miss. Laina</td>\n",
       "      <td>female</td>\n",
       "      <td>26.0</td>\n",
       "      <td>0</td>\n",
       "      <td>0</td>\n",
       "      <td>STON/O2. 3101282</td>\n",
       "      <td>7.9250</td>\n",
       "      <td>NaN</td>\n",
       "      <td>S</td>\n",
       "    </tr>\n",
       "    <tr>\n",
       "      <th>3</th>\n",
       "      <td>4</td>\n",
       "      <td>1</td>\n",
       "      <td>1</td>\n",
       "      <td>Futrelle, Mrs. Jacques Heath (Lily May Peel)</td>\n",
       "      <td>female</td>\n",
       "      <td>35.0</td>\n",
       "      <td>1</td>\n",
       "      <td>0</td>\n",
       "      <td>113803</td>\n",
       "      <td>53.1000</td>\n",
       "      <td>C123</td>\n",
       "      <td>S</td>\n",
       "    </tr>\n",
       "    <tr>\n",
       "      <th>4</th>\n",
       "      <td>5</td>\n",
       "      <td>0</td>\n",
       "      <td>3</td>\n",
       "      <td>Allen, Mr. William Henry</td>\n",
       "      <td>male</td>\n",
       "      <td>35.0</td>\n",
       "      <td>0</td>\n",
       "      <td>0</td>\n",
       "      <td>373450</td>\n",
       "      <td>8.0500</td>\n",
       "      <td>NaN</td>\n",
       "      <td>S</td>\n",
       "    </tr>\n",
       "  </tbody>\n",
       "</table>\n",
       "</div>"
      ],
      "text/plain": [
       "   PassengerId  Survived  Pclass  \\\n",
       "0            1         0       3   \n",
       "1            2         1       1   \n",
       "2            3         1       3   \n",
       "3            4         1       1   \n",
       "4            5         0       3   \n",
       "\n",
       "                                                Name     Sex   Age  SibSp  \\\n",
       "0                            Braund, Mr. Owen Harris    male  22.0      1   \n",
       "1  Cumings, Mrs. John Bradley (Florence Briggs Th...  female  38.0      1   \n",
       "2                             Heikkinen, Miss. Laina  female  26.0      0   \n",
       "3       Futrelle, Mrs. Jacques Heath (Lily May Peel)  female  35.0      1   \n",
       "4                           Allen, Mr. William Henry    male  35.0      0   \n",
       "\n",
       "   Parch            Ticket     Fare Cabin Embarked  \n",
       "0      0         A/5 21171   7.2500   NaN        S  \n",
       "1      0          PC 17599  71.2833   C85        C  \n",
       "2      0  STON/O2. 3101282   7.9250   NaN        S  \n",
       "3      0            113803  53.1000  C123        S  \n",
       "4      0            373450   8.0500   NaN        S  "
      ]
     },
     "execution_count": 16,
     "metadata": {},
     "output_type": "execute_result"
    }
   ],
   "source": [
    "df = pd.read_csv(r\"C:\\Users\\Dell\\Downloads\\Titanic_training_dataset (1).csv\")\n",
    "df.head()"
   ]
  },
  {
   "cell_type": "code",
   "execution_count": 88,
   "id": "19fcab14",
   "metadata": {},
   "outputs": [
    {
     "data": {
      "text/html": [
       "<div>\n",
       "<style scoped>\n",
       "    .dataframe tbody tr th:only-of-type {\n",
       "        vertical-align: middle;\n",
       "    }\n",
       "\n",
       "    .dataframe tbody tr th {\n",
       "        vertical-align: top;\n",
       "    }\n",
       "\n",
       "    .dataframe thead th {\n",
       "        text-align: right;\n",
       "    }\n",
       "</style>\n",
       "<table border=\"1\" class=\"dataframe\">\n",
       "  <thead>\n",
       "    <tr style=\"text-align: right;\">\n",
       "      <th></th>\n",
       "      <th>PassengerId</th>\n",
       "      <th>Survived</th>\n",
       "      <th>Pclass</th>\n",
       "      <th>Name</th>\n",
       "      <th>Sex</th>\n",
       "      <th>Age</th>\n",
       "      <th>SibSp</th>\n",
       "      <th>Parch</th>\n",
       "      <th>Ticket</th>\n",
       "      <th>Fare</th>\n",
       "      <th>Cabin</th>\n",
       "      <th>Starts_With_Q</th>\n",
       "      <th>Starts_With_V</th>\n",
       "    </tr>\n",
       "    <tr>\n",
       "      <th>Embarked</th>\n",
       "      <th></th>\n",
       "      <th></th>\n",
       "      <th></th>\n",
       "      <th></th>\n",
       "      <th></th>\n",
       "      <th></th>\n",
       "      <th></th>\n",
       "      <th></th>\n",
       "      <th></th>\n",
       "      <th></th>\n",
       "      <th></th>\n",
       "      <th></th>\n",
       "      <th></th>\n",
       "    </tr>\n",
       "  </thead>\n",
       "  <tbody>\n",
       "    <tr>\n",
       "      <th>C</th>\n",
       "      <td>2</td>\n",
       "      <td>1</td>\n",
       "      <td>1</td>\n",
       "      <td>Cumings, Mrs. John Bradley (Florence Briggs Th...</td>\n",
       "      <td>female</td>\n",
       "      <td>38.00000</td>\n",
       "      <td>1</td>\n",
       "      <td>0</td>\n",
       "      <td>PC 17599</td>\n",
       "      <td>71.2833</td>\n",
       "      <td>C85</td>\n",
       "      <td>False</td>\n",
       "      <td>False</td>\n",
       "    </tr>\n",
       "    <tr>\n",
       "      <th>Q</th>\n",
       "      <td>6</td>\n",
       "      <td>0</td>\n",
       "      <td>3</td>\n",
       "      <td>Moran, Mr. James</td>\n",
       "      <td>male</td>\n",
       "      <td>25.14062</td>\n",
       "      <td>0</td>\n",
       "      <td>0</td>\n",
       "      <td>330877</td>\n",
       "      <td>8.4583</td>\n",
       "      <td>C78</td>\n",
       "      <td>False</td>\n",
       "      <td>False</td>\n",
       "    </tr>\n",
       "    <tr>\n",
       "      <th>S</th>\n",
       "      <td>1</td>\n",
       "      <td>0</td>\n",
       "      <td>3</td>\n",
       "      <td>Braund, Mr. Owen Harris</td>\n",
       "      <td>male</td>\n",
       "      <td>22.00000</td>\n",
       "      <td>1</td>\n",
       "      <td>0</td>\n",
       "      <td>A/5 21171</td>\n",
       "      <td>7.2500</td>\n",
       "      <td>C123</td>\n",
       "      <td>False</td>\n",
       "      <td>False</td>\n",
       "    </tr>\n",
       "  </tbody>\n",
       "</table>\n",
       "</div>"
      ],
      "text/plain": [
       "          PassengerId  Survived  Pclass  \\\n",
       "Embarked                                  \n",
       "C                   2         1       1   \n",
       "Q                   6         0       3   \n",
       "S                   1         0       3   \n",
       "\n",
       "                                                       Name     Sex       Age  \\\n",
       "Embarked                                                                        \n",
       "C         Cumings, Mrs. John Bradley (Florence Briggs Th...  female  38.00000   \n",
       "Q                                          Moran, Mr. James    male  25.14062   \n",
       "S                                   Braund, Mr. Owen Harris    male  22.00000   \n",
       "\n",
       "          SibSp  Parch     Ticket     Fare Cabin  Starts_With_Q  Starts_With_V  \n",
       "Embarked                                                                        \n",
       "C             1      0   PC 17599  71.2833   C85          False          False  \n",
       "Q             0      0     330877   8.4583   C78          False          False  \n",
       "S             1      0  A/5 21171   7.2500  C123          False          False  "
      ]
     },
     "execution_count": 88,
     "metadata": {},
     "output_type": "execute_result"
    }
   ],
   "source": [
    "k = df.groupby('Embarked')\n",
    "k.first()"
   ]
  },
  {
   "cell_type": "code",
   "execution_count": 18,
   "id": "14fcd102",
   "metadata": {
    "scrolled": true
   },
   "outputs": [
    {
     "data": {
      "text/plain": [
       "Pclass\n",
       "1    38.233441\n",
       "2    29.877630\n",
       "3    25.140620\n",
       "Name: Age, dtype: float64"
      ]
     },
     "execution_count": 18,
     "metadata": {},
     "output_type": "execute_result"
    }
   ],
   "source": [
    "df.groupby('Pclass')[\"Age\"].mean()"
   ]
  },
  {
   "cell_type": "code",
   "execution_count": 19,
   "id": "28c53f6f",
   "metadata": {},
   "outputs": [],
   "source": [
    "# class1_avg = df.loc[df['Pclass']==1,'Age'].mean()\n",
    "# df.loc[df['Age'].isnull() & df[\"Pclass\"]==1,\"Age\"] = class1_avg\n",
    "\n",
    "# class2_avg = df.loc[df['Pclass']==2,'Age'].mean()\n",
    "# df.loc[df['Age'].isnull() & df[\"Pclass\"]==2,\"Age\"] = class2_avg\n",
    "\n",
    "# class3_avg = df.loc[df['Pclass']==3,'Age'].mean()\n",
    "# df.loc[df['Age'].isnull() & df[\"Pclass\"]==3,\"Age\"] = class3_avg\n",
    "\n",
    "df['Age'] = df.groupby('Pclass')['Age'].transform(lambda x: x.fillna(x.mean()))"
   ]
  },
  {
   "cell_type": "code",
   "execution_count": 20,
   "id": "7faa3c23",
   "metadata": {},
   "outputs": [
    {
     "data": {
      "text/plain": [
       "S    644\n",
       "C    168\n",
       "Q     77\n",
       "Name: Embarked, dtype: int64"
      ]
     },
     "execution_count": 20,
     "metadata": {},
     "output_type": "execute_result"
    }
   ],
   "source": [
    "df[\"Embarked\"].value_counts()"
   ]
  },
  {
   "cell_type": "code",
   "execution_count": 21,
   "id": "7a1f4fc9",
   "metadata": {},
   "outputs": [],
   "source": [
    "df[\"Embarked\"].fillna(\"S\",inplace=True)"
   ]
  },
  {
   "cell_type": "markdown",
   "id": "0cd6d35c",
   "metadata": {},
   "source": [
    "# What is the probability of a male surviving the sinking Titanic?"
   ]
  },
  {
   "cell_type": "code",
   "execution_count": 22,
   "id": "d1f79d5e",
   "metadata": {},
   "outputs": [
    {
     "data": {
      "text/plain": [
       "Survived  Sex   \n",
       "0         female     81\n",
       "          male      468\n",
       "1         female    233\n",
       "          male      109\n",
       "Name: Survived, dtype: int64"
      ]
     },
     "execution_count": 22,
     "metadata": {},
     "output_type": "execute_result"
    }
   ],
   "source": [
    "df.groupby([\"Survived\",\"Sex\"]).Survived.count()"
   ]
  },
  {
   "cell_type": "code",
   "execution_count": 23,
   "id": "cdca03cb",
   "metadata": {},
   "outputs": [
    {
     "data": {
      "text/plain": [
       "0.122334455667789"
      ]
     },
     "execution_count": 23,
     "metadata": {},
     "output_type": "execute_result"
    }
   ],
   "source": [
    "prob_of_male_survival = 109/(109+233+468+81)\n",
    "prob_of_male_survival"
   ]
  },
  {
   "cell_type": "code",
   "execution_count": null,
   "id": "dd6b6c77",
   "metadata": {},
   "outputs": [],
   "source": []
  },
  {
   "cell_type": "code",
   "execution_count": null,
   "id": "98a27cb2",
   "metadata": {},
   "outputs": [],
   "source": [
    "#pd.pivot_table(df,values =\"\", index = \"Sex\",columns = \"Survived\", observed = True ,aggfunc = \"count\")"
   ]
  },
  {
   "cell_type": "markdown",
   "id": "a7a5e436",
   "metadata": {},
   "source": [
    "# Which of these variables/factors has the highest impact on whether a person will survive.  a.SibSp    b. Age        c. Sex        d. PClass\n"
   ]
  },
  {
   "cell_type": "code",
   "execution_count": 45,
   "id": "5dcf5dbc",
   "metadata": {},
   "outputs": [
    {
     "data": {
      "text/html": [
       "<div>\n",
       "<style scoped>\n",
       "    .dataframe tbody tr th:only-of-type {\n",
       "        vertical-align: middle;\n",
       "    }\n",
       "\n",
       "    .dataframe tbody tr th {\n",
       "        vertical-align: top;\n",
       "    }\n",
       "\n",
       "    .dataframe thead th {\n",
       "        text-align: right;\n",
       "    }\n",
       "</style>\n",
       "<table border=\"1\" class=\"dataframe\">\n",
       "  <thead>\n",
       "    <tr style=\"text-align: right;\">\n",
       "      <th></th>\n",
       "      <th>PassengerId</th>\n",
       "      <th>Survived</th>\n",
       "      <th>Pclass</th>\n",
       "      <th>Age</th>\n",
       "      <th>SibSp</th>\n",
       "      <th>Parch</th>\n",
       "      <th>Fare</th>\n",
       "    </tr>\n",
       "  </thead>\n",
       "  <tbody>\n",
       "    <tr>\n",
       "      <th>PassengerId</th>\n",
       "      <td>1.000000</td>\n",
       "      <td>-0.005007</td>\n",
       "      <td>-0.035144</td>\n",
       "      <td>0.035256</td>\n",
       "      <td>-0.057527</td>\n",
       "      <td>-0.001652</td>\n",
       "      <td>0.012658</td>\n",
       "    </tr>\n",
       "    <tr>\n",
       "      <th>Survived</th>\n",
       "      <td>-0.005007</td>\n",
       "      <td>1.000000</td>\n",
       "      <td>-0.338481</td>\n",
       "      <td>-0.050504</td>\n",
       "      <td>-0.035322</td>\n",
       "      <td>0.081629</td>\n",
       "      <td>0.257307</td>\n",
       "    </tr>\n",
       "    <tr>\n",
       "      <th>Pclass</th>\n",
       "      <td>-0.035144</td>\n",
       "      <td>-0.338481</td>\n",
       "      <td>1.000000</td>\n",
       "      <td>-0.403858</td>\n",
       "      <td>0.083081</td>\n",
       "      <td>0.018443</td>\n",
       "      <td>-0.549500</td>\n",
       "    </tr>\n",
       "    <tr>\n",
       "      <th>Age</th>\n",
       "      <td>0.035256</td>\n",
       "      <td>-0.050504</td>\n",
       "      <td>-0.403858</td>\n",
       "      <td>1.000000</td>\n",
       "      <td>-0.243452</td>\n",
       "      <td>-0.175799</td>\n",
       "      <td>0.120886</td>\n",
       "    </tr>\n",
       "    <tr>\n",
       "      <th>SibSp</th>\n",
       "      <td>-0.057527</td>\n",
       "      <td>-0.035322</td>\n",
       "      <td>0.083081</td>\n",
       "      <td>-0.243452</td>\n",
       "      <td>1.000000</td>\n",
       "      <td>0.414838</td>\n",
       "      <td>0.159651</td>\n",
       "    </tr>\n",
       "    <tr>\n",
       "      <th>Parch</th>\n",
       "      <td>-0.001652</td>\n",
       "      <td>0.081629</td>\n",
       "      <td>0.018443</td>\n",
       "      <td>-0.175799</td>\n",
       "      <td>0.414838</td>\n",
       "      <td>1.000000</td>\n",
       "      <td>0.216225</td>\n",
       "    </tr>\n",
       "    <tr>\n",
       "      <th>Fare</th>\n",
       "      <td>0.012658</td>\n",
       "      <td>0.257307</td>\n",
       "      <td>-0.549500</td>\n",
       "      <td>0.120886</td>\n",
       "      <td>0.159651</td>\n",
       "      <td>0.216225</td>\n",
       "      <td>1.000000</td>\n",
       "    </tr>\n",
       "  </tbody>\n",
       "</table>\n",
       "</div>"
      ],
      "text/plain": [
       "             PassengerId  Survived    Pclass       Age     SibSp     Parch  \\\n",
       "PassengerId     1.000000 -0.005007 -0.035144  0.035256 -0.057527 -0.001652   \n",
       "Survived       -0.005007  1.000000 -0.338481 -0.050504 -0.035322  0.081629   \n",
       "Pclass         -0.035144 -0.338481  1.000000 -0.403858  0.083081  0.018443   \n",
       "Age             0.035256 -0.050504 -0.403858  1.000000 -0.243452 -0.175799   \n",
       "SibSp          -0.057527 -0.035322  0.083081 -0.243452  1.000000  0.414838   \n",
       "Parch          -0.001652  0.081629  0.018443 -0.175799  0.414838  1.000000   \n",
       "Fare            0.012658  0.257307 -0.549500  0.120886  0.159651  0.216225   \n",
       "\n",
       "                 Fare  \n",
       "PassengerId  0.012658  \n",
       "Survived     0.257307  \n",
       "Pclass      -0.549500  \n",
       "Age          0.120886  \n",
       "SibSp        0.159651  \n",
       "Parch        0.216225  \n",
       "Fare         1.000000  "
      ]
     },
     "execution_count": 45,
     "metadata": {},
     "output_type": "execute_result"
    }
   ],
   "source": [
    "df.corr() #for sex change the string variable into 0 and 1 - categorical"
   ]
  },
  {
   "cell_type": "code",
   "execution_count": null,
   "id": "17687c1b",
   "metadata": {},
   "outputs": [],
   "source": []
  },
  {
   "cell_type": "markdown",
   "id": "aed13fd8",
   "metadata": {},
   "source": [
    "# Passengers embarked from which port have the highest survival rate?a. Queenstown  b. Southampton    c. Cherbourg  d. No significant difference\n"
   ]
  },
  {
   "cell_type": "code",
   "execution_count": 80,
   "id": "c8a7cdd4",
   "metadata": {},
   "outputs": [
    {
     "data": {
      "text/html": [
       "<div>\n",
       "<style scoped>\n",
       "    .dataframe tbody tr th:only-of-type {\n",
       "        vertical-align: middle;\n",
       "    }\n",
       "\n",
       "    .dataframe tbody tr th {\n",
       "        vertical-align: top;\n",
       "    }\n",
       "\n",
       "    .dataframe thead tr th {\n",
       "        text-align: left;\n",
       "    }\n",
       "\n",
       "    .dataframe thead tr:last-of-type th {\n",
       "        text-align: right;\n",
       "    }\n",
       "</style>\n",
       "<table border=\"1\" class=\"dataframe\">\n",
       "  <thead>\n",
       "    <tr>\n",
       "      <th></th>\n",
       "      <th colspan=\"2\" halign=\"left\">Survived</th>\n",
       "    </tr>\n",
       "    <tr>\n",
       "      <th></th>\n",
       "      <th>count</th>\n",
       "      <th>sum</th>\n",
       "    </tr>\n",
       "    <tr>\n",
       "      <th>Embarked</th>\n",
       "      <th></th>\n",
       "      <th></th>\n",
       "    </tr>\n",
       "  </thead>\n",
       "  <tbody>\n",
       "    <tr>\n",
       "      <th>C</th>\n",
       "      <td>168</td>\n",
       "      <td>93</td>\n",
       "    </tr>\n",
       "    <tr>\n",
       "      <th>Q</th>\n",
       "      <td>77</td>\n",
       "      <td>30</td>\n",
       "    </tr>\n",
       "    <tr>\n",
       "      <th>S</th>\n",
       "      <td>646</td>\n",
       "      <td>219</td>\n",
       "    </tr>\n",
       "  </tbody>\n",
       "</table>\n",
       "</div>"
      ],
      "text/plain": [
       "         Survived     \n",
       "            count  sum\n",
       "Embarked              \n",
       "C             168   93\n",
       "Q              77   30\n",
       "S             646  219"
      ]
     },
     "execution_count": 80,
     "metadata": {},
     "output_type": "execute_result"
    }
   ],
   "source": [
    "# df.groupby([\"Embarked\",\"Survived\"]).Survived.count()\n",
    "df.groupby('Embarked').agg({'Survived':['count','sum']})\n",
    "#here add an other column for the percentage\n",
    "#before doing any operations here we must flatten the table here because it uses multi indexing columns"
   ]
  },
  {
   "cell_type": "code",
   "execution_count": 200,
   "id": "6391c710",
   "metadata": {},
   "outputs": [
    {
     "data": {
      "text/plain": [
       "0.5535714285714286"
      ]
     },
     "execution_count": 200,
     "metadata": {},
     "output_type": "execute_result"
    }
   ],
   "source": [
    "C_Survival_Rate = 93/(93+75)\n",
    "C_Survival_Rate"
   ]
  },
  {
   "cell_type": "code",
   "execution_count": 201,
   "id": "e1a82539",
   "metadata": {},
   "outputs": [
    {
     "data": {
      "text/plain": [
       "0.33900928792569657"
      ]
     },
     "execution_count": 201,
     "metadata": {},
     "output_type": "execute_result"
    }
   ],
   "source": [
    "S_Survival_Rate = 219/(219+427)\n",
    "S_Survival_Rate"
   ]
  },
  {
   "cell_type": "code",
   "execution_count": 202,
   "id": "44c1dfaa",
   "metadata": {},
   "outputs": [
    {
     "data": {
      "text/plain": [
       "0.38961038961038963"
      ]
     },
     "execution_count": 202,
     "metadata": {},
     "output_type": "execute_result"
    }
   ],
   "source": [
    "Q_Survival_Rate = 30/(30+47)\n",
    "Q_Survival_Rate"
   ]
  },
  {
   "cell_type": "code",
   "execution_count": null,
   "id": "e0b5154a",
   "metadata": {},
   "outputs": [],
   "source": []
  },
  {
   "cell_type": "markdown",
   "id": "87c98c8e",
   "metadata": {},
   "source": [
    "# What is the name & age of the eldest surviving male passenger "
   ]
  },
  {
   "cell_type": "code",
   "execution_count": 145,
   "id": "f8450088",
   "metadata": {},
   "outputs": [
    {
     "data": {
      "text/html": [
       "<div>\n",
       "<style scoped>\n",
       "    .dataframe tbody tr th:only-of-type {\n",
       "        vertical-align: middle;\n",
       "    }\n",
       "\n",
       "    .dataframe tbody tr th {\n",
       "        vertical-align: top;\n",
       "    }\n",
       "\n",
       "    .dataframe thead th {\n",
       "        text-align: right;\n",
       "    }\n",
       "</style>\n",
       "<table border=\"1\" class=\"dataframe\">\n",
       "  <thead>\n",
       "    <tr style=\"text-align: right;\">\n",
       "      <th></th>\n",
       "      <th>PassengerId</th>\n",
       "      <th>Survived</th>\n",
       "      <th>Pclass</th>\n",
       "      <th>Name</th>\n",
       "      <th>Sex</th>\n",
       "      <th>Age</th>\n",
       "      <th>SibSp</th>\n",
       "      <th>Parch</th>\n",
       "      <th>Ticket</th>\n",
       "      <th>Fare</th>\n",
       "      <th>Cabin</th>\n",
       "      <th>Embarked</th>\n",
       "    </tr>\n",
       "  </thead>\n",
       "  <tbody>\n",
       "    <tr>\n",
       "      <th>630</th>\n",
       "      <td>631</td>\n",
       "      <td>1</td>\n",
       "      <td>1</td>\n",
       "      <td>Barkworth, Mr. Algernon Henry Wilson</td>\n",
       "      <td>male</td>\n",
       "      <td>80.00</td>\n",
       "      <td>0</td>\n",
       "      <td>0</td>\n",
       "      <td>27042</td>\n",
       "      <td>30.0000</td>\n",
       "      <td>A23</td>\n",
       "      <td>S</td>\n",
       "    </tr>\n",
       "    <tr>\n",
       "      <th>570</th>\n",
       "      <td>571</td>\n",
       "      <td>1</td>\n",
       "      <td>2</td>\n",
       "      <td>Harris, Mr. George</td>\n",
       "      <td>male</td>\n",
       "      <td>62.00</td>\n",
       "      <td>0</td>\n",
       "      <td>0</td>\n",
       "      <td>S.W./PP 752</td>\n",
       "      <td>10.5000</td>\n",
       "      <td>NaN</td>\n",
       "      <td>S</td>\n",
       "    </tr>\n",
       "    <tr>\n",
       "      <th>587</th>\n",
       "      <td>588</td>\n",
       "      <td>1</td>\n",
       "      <td>1</td>\n",
       "      <td>Frolicher-Stehli, Mr. Maxmillian</td>\n",
       "      <td>male</td>\n",
       "      <td>60.00</td>\n",
       "      <td>1</td>\n",
       "      <td>1</td>\n",
       "      <td>13567</td>\n",
       "      <td>79.2000</td>\n",
       "      <td>B41</td>\n",
       "      <td>C</td>\n",
       "    </tr>\n",
       "    <tr>\n",
       "      <th>647</th>\n",
       "      <td>648</td>\n",
       "      <td>1</td>\n",
       "      <td>1</td>\n",
       "      <td>Simonius-Blumer, Col. Oberst Alfons</td>\n",
       "      <td>male</td>\n",
       "      <td>56.00</td>\n",
       "      <td>0</td>\n",
       "      <td>0</td>\n",
       "      <td>13213</td>\n",
       "      <td>35.5000</td>\n",
       "      <td>A26</td>\n",
       "      <td>C</td>\n",
       "    </tr>\n",
       "    <tr>\n",
       "      <th>449</th>\n",
       "      <td>450</td>\n",
       "      <td>1</td>\n",
       "      <td>1</td>\n",
       "      <td>Peuchen, Major. Arthur Godfrey</td>\n",
       "      <td>male</td>\n",
       "      <td>52.00</td>\n",
       "      <td>0</td>\n",
       "      <td>0</td>\n",
       "      <td>113786</td>\n",
       "      <td>30.5000</td>\n",
       "      <td>C104</td>\n",
       "      <td>S</td>\n",
       "    </tr>\n",
       "    <tr>\n",
       "      <th>...</th>\n",
       "      <td>...</td>\n",
       "      <td>...</td>\n",
       "      <td>...</td>\n",
       "      <td>...</td>\n",
       "      <td>...</td>\n",
       "      <td>...</td>\n",
       "      <td>...</td>\n",
       "      <td>...</td>\n",
       "      <td>...</td>\n",
       "      <td>...</td>\n",
       "      <td>...</td>\n",
       "      <td>...</td>\n",
       "    </tr>\n",
       "    <tr>\n",
       "      <th>305</th>\n",
       "      <td>306</td>\n",
       "      <td>1</td>\n",
       "      <td>1</td>\n",
       "      <td>Allison, Master. Hudson Trevor</td>\n",
       "      <td>male</td>\n",
       "      <td>0.92</td>\n",
       "      <td>1</td>\n",
       "      <td>2</td>\n",
       "      <td>113781</td>\n",
       "      <td>151.5500</td>\n",
       "      <td>C22 C26</td>\n",
       "      <td>S</td>\n",
       "    </tr>\n",
       "    <tr>\n",
       "      <th>831</th>\n",
       "      <td>832</td>\n",
       "      <td>1</td>\n",
       "      <td>2</td>\n",
       "      <td>Richards, Master. George Sibley</td>\n",
       "      <td>male</td>\n",
       "      <td>0.83</td>\n",
       "      <td>1</td>\n",
       "      <td>1</td>\n",
       "      <td>29106</td>\n",
       "      <td>18.7500</td>\n",
       "      <td>NaN</td>\n",
       "      <td>S</td>\n",
       "    </tr>\n",
       "    <tr>\n",
       "      <th>78</th>\n",
       "      <td>79</td>\n",
       "      <td>1</td>\n",
       "      <td>2</td>\n",
       "      <td>Caldwell, Master. Alden Gates</td>\n",
       "      <td>male</td>\n",
       "      <td>0.83</td>\n",
       "      <td>0</td>\n",
       "      <td>2</td>\n",
       "      <td>248738</td>\n",
       "      <td>29.0000</td>\n",
       "      <td>NaN</td>\n",
       "      <td>S</td>\n",
       "    </tr>\n",
       "    <tr>\n",
       "      <th>755</th>\n",
       "      <td>756</td>\n",
       "      <td>1</td>\n",
       "      <td>2</td>\n",
       "      <td>Hamalainen, Master. Viljo</td>\n",
       "      <td>male</td>\n",
       "      <td>0.67</td>\n",
       "      <td>1</td>\n",
       "      <td>1</td>\n",
       "      <td>250649</td>\n",
       "      <td>14.5000</td>\n",
       "      <td>NaN</td>\n",
       "      <td>S</td>\n",
       "    </tr>\n",
       "    <tr>\n",
       "      <th>803</th>\n",
       "      <td>804</td>\n",
       "      <td>1</td>\n",
       "      <td>3</td>\n",
       "      <td>Thomas, Master. Assad Alexander</td>\n",
       "      <td>male</td>\n",
       "      <td>0.42</td>\n",
       "      <td>0</td>\n",
       "      <td>1</td>\n",
       "      <td>2625</td>\n",
       "      <td>8.5167</td>\n",
       "      <td>NaN</td>\n",
       "      <td>C</td>\n",
       "    </tr>\n",
       "  </tbody>\n",
       "</table>\n",
       "<p>109 rows × 12 columns</p>\n",
       "</div>"
      ],
      "text/plain": [
       "     PassengerId  Survived  Pclass                                  Name  \\\n",
       "630          631         1       1  Barkworth, Mr. Algernon Henry Wilson   \n",
       "570          571         1       2                    Harris, Mr. George   \n",
       "587          588         1       1      Frolicher-Stehli, Mr. Maxmillian   \n",
       "647          648         1       1   Simonius-Blumer, Col. Oberst Alfons   \n",
       "449          450         1       1        Peuchen, Major. Arthur Godfrey   \n",
       "..           ...       ...     ...                                   ...   \n",
       "305          306         1       1        Allison, Master. Hudson Trevor   \n",
       "831          832         1       2       Richards, Master. George Sibley   \n",
       "78            79         1       2         Caldwell, Master. Alden Gates   \n",
       "755          756         1       2             Hamalainen, Master. Viljo   \n",
       "803          804         1       3       Thomas, Master. Assad Alexander   \n",
       "\n",
       "      Sex    Age  SibSp  Parch       Ticket      Fare    Cabin Embarked  \n",
       "630  male  80.00      0      0        27042   30.0000      A23        S  \n",
       "570  male  62.00      0      0  S.W./PP 752   10.5000      NaN        S  \n",
       "587  male  60.00      1      1        13567   79.2000      B41        C  \n",
       "647  male  56.00      0      0        13213   35.5000      A26        C  \n",
       "449  male  52.00      0      0       113786   30.5000     C104        S  \n",
       "..    ...    ...    ...    ...          ...       ...      ...      ...  \n",
       "305  male   0.92      1      2       113781  151.5500  C22 C26        S  \n",
       "831  male   0.83      1      1        29106   18.7500      NaN        S  \n",
       "78   male   0.83      0      2       248738   29.0000      NaN        S  \n",
       "755  male   0.67      1      1       250649   14.5000      NaN        S  \n",
       "803  male   0.42      0      1         2625    8.5167      NaN        C  \n",
       "\n",
       "[109 rows x 12 columns]"
      ]
     },
     "execution_count": 145,
     "metadata": {},
     "output_type": "execute_result"
    }
   ],
   "source": [
    "df1 = pd.DataFrame(df[df[\"Survived\"]==1])\n",
    "df1[df1[\"Sex\"]==\"male\"].sort_values(by=[\"Age\"],ascending=False) #use the groupby first function"
   ]
  },
  {
   "cell_type": "code",
   "execution_count": null,
   "id": "000bb563",
   "metadata": {},
   "outputs": [],
   "source": []
  },
  {
   "cell_type": "markdown",
   "id": "1a3fd504",
   "metadata": {},
   "source": [
    "# For every 100 men and 100 women who boarded the Titanic, how many men and how many women Survived? (Only persons with Age >= 18 are considered men & women) a.(76, 17) b. (75,19) c. (17, 76) d. (19, 76)\n"
   ]
  },
  {
   "cell_type": "code",
   "execution_count": 31,
   "id": "29bec84a",
   "metadata": {},
   "outputs": [
    {
     "data": {
      "text/plain": [
       "Sex     Survived\n",
       "female  0            64\n",
       "        1           195\n",
       "male    0           433\n",
       "        1            86\n",
       "Name: Survived, dtype: int64"
      ]
     },
     "execution_count": 31,
     "metadata": {},
     "output_type": "execute_result"
    }
   ],
   "source": [
    "df.loc[df.Age>=18].groupby([\"Sex\",\"Survived\"]).Survived.count() #here add an other column using the aggregate function for \n",
    "#displaying the percentage"
   ]
  },
  {
   "cell_type": "code",
   "execution_count": 154,
   "id": "880811a3",
   "metadata": {},
   "outputs": [
    {
     "data": {
      "text/plain": [
       "16.570327552986512"
      ]
     },
     "execution_count": 154,
     "metadata": {},
     "output_type": "execute_result"
    }
   ],
   "source": [
    "male_Survived_for_hun = (86/(86+433))*100\n",
    "male_Survived_for_hun"
   ]
  },
  {
   "cell_type": "code",
   "execution_count": 155,
   "id": "6abc717d",
   "metadata": {},
   "outputs": [
    {
     "data": {
      "text/plain": [
       "24.71042471042471"
      ]
     },
     "execution_count": 155,
     "metadata": {},
     "output_type": "execute_result"
    }
   ],
   "source": [
    "female_Survived_for_hun = (64/(64+195))*100\n",
    "female_Survived_for_hun"
   ]
  },
  {
   "cell_type": "code",
   "execution_count": null,
   "id": "2594468a",
   "metadata": {},
   "outputs": [],
   "source": []
  },
  {
   "cell_type": "markdown",
   "id": "2a4abbc5",
   "metadata": {},
   "source": [
    "# Pick the correct statements a.Passengers with odd Ids have survived more than passengers with even ids b.No passenger with more than 5 siblings has survived. c. Passengers with more siblings have less survival rate and passengers with less siblings have higher survival rate. d.Among the ones who survived, there are more passengers with even number PassengerId\n"
   ]
  },
  {
   "cell_type": "code",
   "execution_count": 12,
   "id": "9c524bf5",
   "metadata": {},
   "outputs": [
    {
     "data": {
      "text/plain": [
       "PassengerId  Survived\n",
       "0            0           261\n",
       "             1           184\n",
       "1            0           288\n",
       "             1           158\n",
       "Name: Survived, dtype: int64"
      ]
     },
     "execution_count": 12,
     "metadata": {},
     "output_type": "execute_result"
    }
   ],
   "source": [
    "# df.groupby(df[\"PassengerId\"]%2).agg({'Survived':'sum'})\n",
    "df.groupby([df[\"PassengerId\"]%2,\"Survived\"]).Survived.count() #add another column"
   ]
  },
  {
   "cell_type": "code",
   "execution_count": 161,
   "id": "0dcede3f",
   "metadata": {},
   "outputs": [
    {
     "data": {
      "text/plain": [
       "0.4134831460674157"
      ]
     },
     "execution_count": 161,
     "metadata": {},
     "output_type": "execute_result"
    }
   ],
   "source": [
    "even_id_survival_rate = 184/(184+261)\n",
    "even_id_survival_rate"
   ]
  },
  {
   "cell_type": "code",
   "execution_count": 162,
   "id": "b7dbf06c",
   "metadata": {},
   "outputs": [
    {
     "data": {
      "text/plain": [
       "0.3542600896860987"
      ]
     },
     "execution_count": 162,
     "metadata": {},
     "output_type": "execute_result"
    }
   ],
   "source": [
    "odd_id_survival_rate = 158/(158+288)\n",
    "odd_id_survival_rate"
   ]
  },
  {
   "cell_type": "code",
   "execution_count": null,
   "id": "57ea2aeb",
   "metadata": {},
   "outputs": [],
   "source": []
  },
  {
   "cell_type": "code",
   "execution_count": 163,
   "id": "b8d51bad",
   "metadata": {},
   "outputs": [
    {
     "data": {
      "text/plain": [
       "0    7\n",
       "Name: Survived, dtype: int64"
      ]
     },
     "execution_count": 163,
     "metadata": {},
     "output_type": "execute_result"
    }
   ],
   "source": [
    "df[df[\"SibSp\"]>5][\"Survived\"].value_counts()"
   ]
  },
  {
   "cell_type": "code",
   "execution_count": null,
   "id": "b6057f16",
   "metadata": {},
   "outputs": [],
   "source": []
  },
  {
   "cell_type": "code",
   "execution_count": 13,
   "id": "f2ca7c39",
   "metadata": {},
   "outputs": [
    {
     "data": {
      "text/plain": [
       "SibSp  Survived\n",
       "0      0           398\n",
       "       1           210\n",
       "1      0            97\n",
       "       1           112\n",
       "2      0            15\n",
       "       1            13\n",
       "3      0            12\n",
       "       1             4\n",
       "4      0            15\n",
       "       1             3\n",
       "5      0             5\n",
       "8      0             7\n",
       "Name: Survived, dtype: int64"
      ]
     },
     "execution_count": 13,
     "metadata": {},
     "output_type": "execute_result"
    }
   ],
   "source": [
    "df.groupby([\"SibSp\",\"Survived\"]).Survived.count() #add another column"
   ]
  },
  {
   "cell_type": "code",
   "execution_count": 171,
   "id": "0ebfce07",
   "metadata": {},
   "outputs": [],
   "source": [
    "survival_rate_0 = 210/(210+398)\n",
    "survival_rate_1 = 112/(112+97)\n",
    "survival_rate_2 = 13/(13+15)\n",
    "survival_rate_3 = 4/(4+12)\n",
    "survival_rate_4 = 3/(3+15)"
   ]
  },
  {
   "cell_type": "code",
   "execution_count": null,
   "id": "58c6a374",
   "metadata": {},
   "outputs": [],
   "source": []
  },
  {
   "cell_type": "markdown",
   "id": "d950f9a3",
   "metadata": {},
   "source": [
    "# Which of the below statements is correct a. Every person whose name starts with Q has survived b.There’re 15 passengers whose name starts with V and none of them have survived c. Passengers who survived the Titanic has paid, on an average, more than double the fare paid by those who could not survive d.Lower the age, more the number of family accompanying the passenger\n"
   ]
  },
  {
   "cell_type": "code",
   "execution_count": 58,
   "id": "0c0a1809",
   "metadata": {},
   "outputs": [
    {
     "data": {
      "text/plain": [
       "Starts_With_Q  Survived\n",
       "False          0           549\n",
       "               1           340\n",
       "True           1             2\n",
       "Name: Survived, dtype: int64"
      ]
     },
     "execution_count": 58,
     "metadata": {},
     "output_type": "execute_result"
    }
   ],
   "source": [
    "# df.filter(lambda df[\"Name\"]: df[\"Name\"].startswith(\"Q\"))\n",
    "df[\"Starts_With_Q\"] = list(map(lambda x: x.startswith(\"Q\") or x.startswith(\"q\"), df[\"Name\"])) \n",
    "df[\"Starts_With_V\"] = list(map(lambda x: x.startswith(\"V\") or x.startswith(\"v\"), df[\"Name\"])) \n",
    "df.groupby([\"Starts_With_Q\",\"Survived\"]).Survived.count()"
   ]
  },
  {
   "cell_type": "code",
   "execution_count": 59,
   "id": "c56df64c",
   "metadata": {},
   "outputs": [
    {
     "data": {
      "text/plain": [
       "Starts_With_V  Survived\n",
       "False          0           534\n",
       "               1           342\n",
       "True           0            15\n",
       "Name: Survived, dtype: int64"
      ]
     },
     "execution_count": 59,
     "metadata": {},
     "output_type": "execute_result"
    }
   ],
   "source": [
    "df.groupby([\"Starts_With_V\",\"Survived\"]).Survived.count()"
   ]
  },
  {
   "cell_type": "code",
   "execution_count": 63,
   "id": "145a4668",
   "metadata": {},
   "outputs": [
    {
     "data": {
      "text/html": [
       "<div>\n",
       "<style scoped>\n",
       "    .dataframe tbody tr th:only-of-type {\n",
       "        vertical-align: middle;\n",
       "    }\n",
       "\n",
       "    .dataframe tbody tr th {\n",
       "        vertical-align: top;\n",
       "    }\n",
       "\n",
       "    .dataframe thead th {\n",
       "        text-align: right;\n",
       "    }\n",
       "</style>\n",
       "<table border=\"1\" class=\"dataframe\">\n",
       "  <thead>\n",
       "    <tr style=\"text-align: right;\">\n",
       "      <th></th>\n",
       "      <th>Fare</th>\n",
       "    </tr>\n",
       "    <tr>\n",
       "      <th>Survived</th>\n",
       "      <th></th>\n",
       "    </tr>\n",
       "  </thead>\n",
       "  <tbody>\n",
       "    <tr>\n",
       "      <th>0</th>\n",
       "      <td>22.117887</td>\n",
       "    </tr>\n",
       "    <tr>\n",
       "      <th>1</th>\n",
       "      <td>48.395408</td>\n",
       "    </tr>\n",
       "  </tbody>\n",
       "</table>\n",
       "</div>"
      ],
      "text/plain": [
       "               Fare\n",
       "Survived           \n",
       "0         22.117887\n",
       "1         48.395408"
      ]
     },
     "execution_count": 63,
     "metadata": {},
     "output_type": "execute_result"
    }
   ],
   "source": [
    "df.groupby(\"Survived\").agg({\"Fare\":np.mean})"
   ]
  },
  {
   "cell_type": "code",
   "execution_count": 82,
   "id": "90f6d51b",
   "metadata": {},
   "outputs": [
    {
     "data": {
      "text/plain": [
       "Name\n",
       "False    889\n",
       "True       2\n",
       "Name: Survived, dtype: int64"
      ]
     },
     "execution_count": 82,
     "metadata": {},
     "output_type": "execute_result"
    }
   ],
   "source": [
    "df.groupby(df['Name'].str.startswith(\"Q\"))['Survived'].count()"
   ]
  },
  {
   "cell_type": "code",
   "execution_count": null,
   "id": "abf8006f",
   "metadata": {},
   "outputs": [],
   "source": [
    "#for the last option use pandas.cut to bin the continuous variable age into bins and in each bin check the number of people in\n",
    "#it and their family members accompanying them"
   ]
  },
  {
   "cell_type": "markdown",
   "id": "6560280c",
   "metadata": {},
   "source": [
    "# Identify the correct statements among the following a. Most senior passengers (age above 60) have purchased a similar passenger class ticket. b. Only one passenger with 5 children has survived c. Most passengers who embarked from Southampton have survived d.Passengers with 1 or 2 siblings have a higher survival rate compared to rest\n"
   ]
  },
  {
   "cell_type": "code",
   "execution_count": null,
   "id": "5e262cfb",
   "metadata": {},
   "outputs": [],
   "source": [
    "#for the first one most senior passengers check the count of the group by for age greater than 60 for the PClass "
   ]
  },
  {
   "cell_type": "code",
   "execution_count": 69,
   "id": "f24761b2",
   "metadata": {},
   "outputs": [
    {
     "data": {
      "text/plain": [
       "0    4\n",
       "1    1\n",
       "Name: Survived, dtype: int64"
      ]
     },
     "execution_count": 69,
     "metadata": {},
     "output_type": "execute_result"
    }
   ],
   "source": [
    "df[df[\"Parch\"]==5][\"Survived\"].value_counts()"
   ]
  },
  {
   "cell_type": "code",
   "execution_count": 70,
   "id": "ca4ed181",
   "metadata": {},
   "outputs": [
    {
     "data": {
      "text/plain": [
       "0    427\n",
       "1    219\n",
       "Name: Survived, dtype: int64"
      ]
     },
     "execution_count": 70,
     "metadata": {},
     "output_type": "execute_result"
    }
   ],
   "source": [
    "df[df[\"Embarked\"]==\"S\"][\"Survived\"].value_counts()"
   ]
  },
  {
   "cell_type": "code",
   "execution_count": 73,
   "id": "151814c4",
   "metadata": {},
   "outputs": [
    {
     "data": {
      "text/plain": [
       "SibSp  Survived\n",
       "0      0           398\n",
       "       1           210\n",
       "1      1           112\n",
       "       0            97\n",
       "2      0            15\n",
       "       1            13\n",
       "3      0            12\n",
       "       1             4\n",
       "4      0            15\n",
       "       1             3\n",
       "5      0             5\n",
       "8      0             7\n",
       "Name: Survived, dtype: int64"
      ]
     },
     "execution_count": 73,
     "metadata": {},
     "output_type": "execute_result"
    }
   ],
   "source": [
    "df.groupby([\"SibSp\"]).Survived.value_counts() "
   ]
  },
  {
   "cell_type": "code",
   "execution_count": 74,
   "id": "ec8c7ac8",
   "metadata": {},
   "outputs": [],
   "source": [
    "sib_1_or_2_surv_rate = (112+13)/(112+97+15+13)"
   ]
  },
  {
   "cell_type": "code",
   "execution_count": 75,
   "id": "2b629485",
   "metadata": {},
   "outputs": [],
   "source": [
    "sib_rest_surv_rate = (210+4+3)/(891-(112+97+15+13))"
   ]
  },
  {
   "cell_type": "code",
   "execution_count": null,
   "id": "655ec3d7",
   "metadata": {},
   "outputs": [],
   "source": []
  }
 ],
 "metadata": {
  "kernelspec": {
   "display_name": "Python 3",
   "language": "python",
   "name": "python3"
  },
  "language_info": {
   "codemirror_mode": {
    "name": "ipython",
    "version": 3
   },
   "file_extension": ".py",
   "mimetype": "text/x-python",
   "name": "python",
   "nbconvert_exporter": "python",
   "pygments_lexer": "ipython3",
   "version": "3.8.8"
  }
 },
 "nbformat": 4,
 "nbformat_minor": 5
}
